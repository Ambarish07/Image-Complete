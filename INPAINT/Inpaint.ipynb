{
 "cells": [
  {
   "cell_type": "code",
   "execution_count": 1,
   "metadata": {},
   "outputs": [],
   "source": [
    "import numpy as np\n",
    "import cv2"
   ]
  },
  {
   "cell_type": "code",
   "execution_count": 3,
   "metadata": {},
   "outputs": [],
   "source": [
    "# mouse movements \n",
    "\n",
    "class Sketcher:\n",
    "    def __init__(self, windowname, dests, colors_func):\n",
    "        self.prev_pt = None\n",
    "        self.windowname = windowname\n",
    "        self.dests = dests\n",
    "        self.colors_func = colors_func\n",
    "        self.distorted = False\n",
    "        self.show()\n",
    "        cv2.setMouseCallback(self.windowname, self.on_mouse)\n",
    "\n",
    "    def show(self):\n",
    "        cv2.imshow(self.windowname, self.dests[0])\n",
    "        cv2.imshow(self.windowname+\": Mask\",self.dests[1])\n",
    "    def on_mouse(self, event, x, y, flags, param):\n",
    "        pt = (x,y)\n",
    "        if event == cv2.EVENT_LBUTTONDOWN:\n",
    "            self.prev_pt = pt\n",
    "        elif event == cv2.EVENT_LBUTTONUP:\n",
    "            self.prev_pt = None\n",
    "        if self.prev_pt and flags & cv2.EVENT_FLAG_LBUTTON:\n",
    "            for dst, color in zip(self.dests, self.colors_func()):\n",
    "                cv2.line(dst,self.prev_pt, pt, color, 5)\n",
    "            self.distorted = True\n",
    "            self.prev_pt = pt\n",
    "            self.show()\n",
    "\n"
   ]
  },
  {
   "cell_type": "code",
   "execution_count": null,
   "metadata": {},
   "outputs": [
    {
     "name": "stdout",
     "output_type": "stream",
     "text": [
      "Inpaint\n"
     ]
    }
   ],
   "source": [
    "print(\"Inpaint\")\n",
    "\n",
    "#Read image in color mode\n",
    "img = cv2.imread(\"1.jpg\",1)\n",
    "img = cv2.resize(img,(500,500))    # change to 500 * 500 px\n",
    "if img is None:\n",
    "    print('Failed to load image file')\n",
    "    exit(0)\n",
    "img_mask = img.copy()\n",
    "\n",
    "inpaintMask = np.zeros(img.shape[:2], np.uint8)\n",
    "# print(\"came here1\")\n",
    "sketch = Sketcher('image',[img_mask, inpaintMask], lambda :((255,255,255), 255))\n",
    "\n",
    "while True:\n",
    "    ch = cv2.waitKey(0)\n",
    "\n",
    "    if ch == 27:     #Esc key\n",
    "        # print(\"breaking...\")\n",
    "        break\n",
    "    if ch == ord('t'):\n",
    "        res = cv2.inpaint(src=img_mask, inpaintMask=inpaintMask, inpaintRadius=3, flags=cv2.INPAINT_TELEA)\n",
    "        # print(\"came here2\")\n",
    "        cv2.imshow(\"Inpaint TELEA Recovered\",res)\n",
    "    if ch == ord('n'):\n",
    "        res = cv2.inpaint(src=img_mask, inpaintMask=inpaintMask, inpaintRadius=3, flags=cv2.INPAINT_NS)\n",
    "        # print(\"came here3\")\n",
    "        cv2.imshow(\"Inpaint NS Recovered \",res)\n",
    "    if ch == ord('r'):\n",
    "        img_mask[:] = img\n",
    "        inpaintMask[:]=0\n",
    "        sketch.show()\n",
    "        # print(\"came here...\")\n",
    "print(\"Completed\")\n",
    "\n",
    "cv2.destroyAllWindows()"
   ]
  },
  {
   "cell_type": "code",
   "execution_count": null,
   "metadata": {},
   "outputs": [],
   "source": []
  },
  {
   "cell_type": "code",
   "execution_count": null,
   "metadata": {},
   "outputs": [],
   "source": []
  },
  {
   "cell_type": "code",
   "execution_count": null,
   "metadata": {},
   "outputs": [],
   "source": []
  },
  {
   "cell_type": "code",
   "execution_count": null,
   "metadata": {},
   "outputs": [],
   "source": []
  },
  {
   "cell_type": "code",
   "execution_count": null,
   "metadata": {},
   "outputs": [],
   "source": []
  },
  {
   "cell_type": "code",
   "execution_count": null,
   "metadata": {},
   "outputs": [],
   "source": []
  },
  {
   "cell_type": "code",
   "execution_count": null,
   "metadata": {},
   "outputs": [],
   "source": []
  },
  {
   "cell_type": "code",
   "execution_count": null,
   "metadata": {},
   "outputs": [],
   "source": []
  },
  {
   "cell_type": "code",
   "execution_count": null,
   "metadata": {},
   "outputs": [],
   "source": []
  }
 ],
 "metadata": {
  "kernelspec": {
   "display_name": "Python 3",
   "language": "python",
   "name": "python3"
  },
  "language_info": {
   "codemirror_mode": {
    "name": "ipython",
    "version": 3
   },
   "file_extension": ".py",
   "mimetype": "text/x-python",
   "name": "python",
   "nbconvert_exporter": "python",
   "pygments_lexer": "ipython3",
   "version": "3.7.0"
  }
 },
 "nbformat": 4,
 "nbformat_minor": 4
}
